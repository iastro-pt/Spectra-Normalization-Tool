{
 "cells": [
  {
   "cell_type": "code",
   "execution_count": 1,
   "metadata": {
    "collapsed": true,
    "ExecuteTime": {
     "end_time": "2023-06-23T14:00:10.067437084Z",
     "start_time": "2023-06-23T14:00:08.313228064Z"
    }
   },
   "outputs": [],
   "source": [
    "from SNT import SNT_Configs, normalize_spectra"
   ]
  },
  {
   "cell_type": "code",
   "execution_count": 2,
   "outputs": [
    {
     "name": "stderr",
     "output_type": "stream",
     "text": [
      "2023-06-23 15:00:10.067 | DEBUG    | SNT.configs:receive_user_inputs:228 - Generating internal configs of SNT\n",
      "2023-06-23 15:00:10.069 | INFO     | SNT.configs:receive_user_inputs:233 - Checking for any parameter that will take default value\n",
      "2023-06-23 15:00:10.070 | DEBUG    | SNT.configs:receive_user_inputs:241 - Configuration <remove_n_first> using the default value: 3000\n",
      "2023-06-23 15:00:10.071 | DEBUG    | SNT.configs:receive_user_inputs:241 - Configuration <radius_min> using the default value: 20\n",
      "2023-06-23 15:00:10.072 | DEBUG    | SNT.configs:receive_user_inputs:241 - Configuration <radius_max> using the default value: 70\n",
      "2023-06-23 15:00:10.072 | DEBUG    | SNT.configs:receive_user_inputs:241 - Configuration <max_vicinity> using the default value: 10\n",
      "2023-06-23 15:00:10.072 | DEBUG    | SNT.configs:receive_user_inputs:241 - Configuration <stretching> using the default value: 40\n",
      "2023-06-23 15:00:10.073 | DEBUG    | SNT.configs:receive_user_inputs:241 - Configuration <use_RIC> using the default value: True\n",
      "2023-06-23 15:00:10.074 | DEBUG    | SNT.configs:receive_user_inputs:241 - Configuration <interp> using the default value: linear\n",
      "2023-06-23 15:00:10.075 | DEBUG    | SNT.configs:receive_user_inputs:241 - Configuration <use_denoise> using the default value: False\n",
      "2023-06-23 15:00:10.075 | DEBUG    | SNT.configs:receive_user_inputs:241 - Configuration <usefilter> using the default value: True\n",
      "2023-06-23 15:00:10.076 | DEBUG    | SNT.configs:receive_user_inputs:241 - Configuration <nu> using the default value: 1\n",
      "2023-06-23 15:00:10.077 | DEBUG    | SNT.configs:receive_user_inputs:241 - Configuration <niter_peaks_remove> using the default value: 10\n",
      "2023-06-23 15:00:10.078 | DEBUG    | SNT.configs:receive_user_inputs:241 - Configuration <denoising_distance> using the default value: 5\n"
     ]
    }
   ],
   "source": [
    "# Load the configs with the default values specified in the report\n",
    "config = SNT_Configs()"
   ],
   "metadata": {
    "collapsed": false,
    "ExecuteTime": {
     "end_time": "2023-06-23T14:00:10.087457653Z",
     "start_time": "2023-06-23T14:00:10.070787460Z"
    }
   }
  },
  {
   "cell_type": "code",
   "execution_count": 3,
   "outputs": [
    {
     "name": "stdout",
     "output_type": "stream",
     "text": [
      "Running...\n",
      "Number of selected maxima: 732\n",
      "Saving data to disk\n",
      "Generating plots\n",
      "done\n"
     ]
    }
   ],
   "source": [
    "# Trigger the normalization\n",
    "\n",
    "from astropy.io import fits\n",
    "output_path = \".\"\n",
    "inputfile = \"../resources/sample.fits\"\n",
    "\n",
    "with fits.open(inputfile) as hdu:\n",
    "    full_data = hdu[1].data\n",
    "    header = hdu[0].header\n",
    "\n",
    "wavelengths = full_data[\"wavelength\"]\n",
    "spectra = full_data[\"flux\"]\n",
    "uncertainties = full_data[\"error\"]\n",
    "normalize_spectra(wavelengths=wavelengths,\n",
    "                  spectra=spectra,\n",
    "                  header=header,\n",
    "                  output_path=output_path,\n",
    "                  config=config\n",
    "                    )"
   ],
   "metadata": {
    "collapsed": false,
    "ExecuteTime": {
     "end_time": "2023-06-23T14:00:52.986039138Z",
     "start_time": "2023-06-23T14:00:10.093134946Z"
    }
   }
  }
 ],
 "metadata": {
  "kernelspec": {
   "display_name": "Python 3",
   "language": "python",
   "name": "python3"
  },
  "language_info": {
   "codemirror_mode": {
    "name": "ipython",
    "version": 2
   },
   "file_extension": ".py",
   "mimetype": "text/x-python",
   "name": "python",
   "nbconvert_exporter": "python",
   "pygments_lexer": "ipython2",
   "version": "2.7.6"
  }
 },
 "nbformat": 4,
 "nbformat_minor": 0
}
